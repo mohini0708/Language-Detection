{
  "nbformat": 4,
  "nbformat_minor": 0,
  "metadata": {
    "colab": {
      "provenance": [],
      "authorship_tag": "ABX9TyNVx7wOrmAAqZlj8dCvMh6v",
      "include_colab_link": true
    },
    "kernelspec": {
      "name": "python3",
      "display_name": "Python 3"
    },
    "language_info": {
      "name": "python"
    }
  },
  "cells": [
    {
      "cell_type": "markdown",
      "metadata": {
        "id": "view-in-github",
        "colab_type": "text"
      },
      "source": [
        "<a href=\"https://colab.research.google.com/github/mohini0708/Language-Detection/blob/main/Untitled19.ipynb\" target=\"_parent\"><img src=\"https://colab.research.google.com/assets/colab-badge.svg\" alt=\"Open In Colab\"/></a>"
      ]
    },
    {
      "cell_type": "code",
      "source": [
        "!pip install speechrecognition pyaudio gtts\n",
        "!apt-get install -y portaudio19-dev\n",
        "!pip install --upgrade google-cloud-speech\n"
      ],
      "metadata": {
        "colab": {
          "base_uri": "https://localhost:8080/",
          "height": 1000
        },
        "id": "0KXmO_JvOrEw",
        "outputId": "a40f117d-1ef9-4dbd-8f3d-a4d3ec0f2bb6"
      },
      "execution_count": null,
      "outputs": [
        {
          "output_type": "stream",
          "name": "stdout",
          "text": [
            "Collecting speechrecognition\n",
            "  Downloading speechrecognition-3.14.2-py3-none-any.whl.metadata (30 kB)\n",
            "Collecting pyaudio\n",
            "  Downloading PyAudio-0.2.14.tar.gz (47 kB)\n",
            "\u001b[2K     \u001b[90m━━━━━━━━━━━━━━━━━━━━━━━━━━━━━━━━━━━━━━━━\u001b[0m \u001b[32m47.1/47.1 kB\u001b[0m \u001b[31m1.5 MB/s\u001b[0m eta \u001b[36m0:00:00\u001b[0m\n",
            "\u001b[?25h  Installing build dependencies ... \u001b[?25l\u001b[?25hdone\n",
            "  Getting requirements to build wheel ... \u001b[?25l\u001b[?25hdone\n",
            "  Preparing metadata (pyproject.toml) ... \u001b[?25l\u001b[?25hdone\n",
            "Collecting gtts\n",
            "  Downloading gTTS-2.5.4-py3-none-any.whl.metadata (4.1 kB)\n",
            "Requirement already satisfied: typing-extensions in /usr/local/lib/python3.11/dist-packages (from speechrecognition) (4.13.0)\n",
            "Requirement already satisfied: requests<3,>=2.27 in /usr/local/lib/python3.11/dist-packages (from gtts) (2.32.3)\n",
            "Requirement already satisfied: click<8.2,>=7.1 in /usr/local/lib/python3.11/dist-packages (from gtts) (8.1.8)\n",
            "Requirement already satisfied: charset-normalizer<4,>=2 in /usr/local/lib/python3.11/dist-packages (from requests<3,>=2.27->gtts) (3.4.1)\n",
            "Requirement already satisfied: idna<4,>=2.5 in /usr/local/lib/python3.11/dist-packages (from requests<3,>=2.27->gtts) (3.10)\n",
            "Requirement already satisfied: urllib3<3,>=1.21.1 in /usr/local/lib/python3.11/dist-packages (from requests<3,>=2.27->gtts) (2.3.0)\n",
            "Requirement already satisfied: certifi>=2017.4.17 in /usr/local/lib/python3.11/dist-packages (from requests<3,>=2.27->gtts) (2025.1.31)\n",
            "Downloading speechrecognition-3.14.2-py3-none-any.whl (32.9 MB)\n",
            "\u001b[2K   \u001b[90m━━━━━━━━━━━━━━━━━━━━━━━━━━━━━━━━━━━━━━━━\u001b[0m \u001b[32m32.9/32.9 MB\u001b[0m \u001b[31m12.8 MB/s\u001b[0m eta \u001b[36m0:00:00\u001b[0m\n",
            "\u001b[?25hDownloading gTTS-2.5.4-py3-none-any.whl (29 kB)\n",
            "Building wheels for collected packages: pyaudio\n",
            "  \u001b[1;31merror\u001b[0m: \u001b[1msubprocess-exited-with-error\u001b[0m\n",
            "  \n",
            "  \u001b[31m×\u001b[0m \u001b[32mBuilding wheel for pyaudio \u001b[0m\u001b[1;32m(\u001b[0m\u001b[32mpyproject.toml\u001b[0m\u001b[1;32m)\u001b[0m did not run successfully.\n",
            "  \u001b[31m│\u001b[0m exit code: \u001b[1;36m1\u001b[0m\n",
            "  \u001b[31m╰─>\u001b[0m See above for output.\n",
            "  \n",
            "  \u001b[1;35mnote\u001b[0m: This error originates from a subprocess, and is likely not a problem with pip.\n",
            "  Building wheel for pyaudio (pyproject.toml) ... \u001b[?25l\u001b[?25herror\n",
            "\u001b[31m  ERROR: Failed building wheel for pyaudio\u001b[0m\u001b[31m\n",
            "\u001b[0mFailed to build pyaudio\n",
            "\u001b[31mERROR: ERROR: Failed to build installable wheels for some pyproject.toml based projects (pyaudio)\u001b[0m\u001b[31m\n",
            "Reading package lists... Done\n",
            "Building dependency tree... Done\n",
            "Reading state information... Done\n",
            "The following additional packages will be installed:\n",
            "  libportaudio2 libportaudiocpp0\n",
            "Suggested packages:\n",
            "  portaudio19-doc\n",
            "The following NEW packages will be installed:\n",
            "  libportaudio2 libportaudiocpp0 portaudio19-dev\n",
            "0 upgraded, 3 newly installed, 0 to remove and 30 not upgraded.\n",
            "Need to get 188 kB of archives.\n",
            "After this operation, 927 kB of additional disk space will be used.\n",
            "Get:1 http://archive.ubuntu.com/ubuntu jammy/universe amd64 libportaudio2 amd64 19.6.0-1.1 [65.3 kB]\n",
            "Get:2 http://archive.ubuntu.com/ubuntu jammy/universe amd64 libportaudiocpp0 amd64 19.6.0-1.1 [16.1 kB]\n",
            "Get:3 http://archive.ubuntu.com/ubuntu jammy/universe amd64 portaudio19-dev amd64 19.6.0-1.1 [106 kB]\n",
            "Fetched 188 kB in 1s (310 kB/s)\n",
            "Selecting previously unselected package libportaudio2:amd64.\n",
            "(Reading database ... 126213 files and directories currently installed.)\n",
            "Preparing to unpack .../libportaudio2_19.6.0-1.1_amd64.deb ...\n",
            "Unpacking libportaudio2:amd64 (19.6.0-1.1) ...\n",
            "Selecting previously unselected package libportaudiocpp0:amd64.\n",
            "Preparing to unpack .../libportaudiocpp0_19.6.0-1.1_amd64.deb ...\n",
            "Unpacking libportaudiocpp0:amd64 (19.6.0-1.1) ...\n",
            "Selecting previously unselected package portaudio19-dev:amd64.\n",
            "Preparing to unpack .../portaudio19-dev_19.6.0-1.1_amd64.deb ...\n",
            "Unpacking portaudio19-dev:amd64 (19.6.0-1.1) ...\n",
            "Setting up libportaudio2:amd64 (19.6.0-1.1) ...\n",
            "Setting up libportaudiocpp0:amd64 (19.6.0-1.1) ...\n",
            "Setting up portaudio19-dev:amd64 (19.6.0-1.1) ...\n",
            "Processing triggers for libc-bin (2.35-0ubuntu3.8) ...\n",
            "/sbin/ldconfig.real: /usr/local/lib/libtbbmalloc_proxy.so.2 is not a symbolic link\n",
            "\n",
            "/sbin/ldconfig.real: /usr/local/lib/libtbbmalloc.so.2 is not a symbolic link\n",
            "\n",
            "/sbin/ldconfig.real: /usr/local/lib/libtcm_debug.so.1 is not a symbolic link\n",
            "\n",
            "/sbin/ldconfig.real: /usr/local/lib/libumf.so.0 is not a symbolic link\n",
            "\n",
            "/sbin/ldconfig.real: /usr/local/lib/libur_adapter_level_zero.so.0 is not a symbolic link\n",
            "\n",
            "/sbin/ldconfig.real: /usr/local/lib/libhwloc.so.15 is not a symbolic link\n",
            "\n",
            "/sbin/ldconfig.real: /usr/local/lib/libur_loader.so.0 is not a symbolic link\n",
            "\n",
            "/sbin/ldconfig.real: /usr/local/lib/libtbbbind_2_0.so.3 is not a symbolic link\n",
            "\n",
            "/sbin/ldconfig.real: /usr/local/lib/libur_adapter_opencl.so.0 is not a symbolic link\n",
            "\n",
            "/sbin/ldconfig.real: /usr/local/lib/libtcm.so.1 is not a symbolic link\n",
            "\n",
            "/sbin/ldconfig.real: /usr/local/lib/libtbb.so.12 is not a symbolic link\n",
            "\n",
            "/sbin/ldconfig.real: /usr/local/lib/libtbbbind_2_5.so.3 is not a symbolic link\n",
            "\n",
            "/sbin/ldconfig.real: /usr/local/lib/libtbbbind.so.3 is not a symbolic link\n",
            "\n",
            "Collecting google-cloud-speech\n",
            "  Downloading google_cloud_speech-2.31.1-py3-none-any.whl.metadata (9.5 kB)\n",
            "Requirement already satisfied: google-api-core!=2.0.*,!=2.1.*,!=2.10.*,!=2.2.*,!=2.3.*,!=2.4.*,!=2.5.*,!=2.6.*,!=2.7.*,!=2.8.*,!=2.9.*,<3.0.0,>=1.34.1 in /usr/local/lib/python3.11/dist-packages (from google-api-core[grpc]!=2.0.*,!=2.1.*,!=2.10.*,!=2.2.*,!=2.3.*,!=2.4.*,!=2.5.*,!=2.6.*,!=2.7.*,!=2.8.*,!=2.9.*,<3.0.0,>=1.34.1->google-cloud-speech) (2.24.2)\n",
            "Requirement already satisfied: google-auth!=2.24.0,!=2.25.0,<3.0.0,>=2.14.1 in /usr/local/lib/python3.11/dist-packages (from google-cloud-speech) (2.38.0)\n",
            "Requirement already satisfied: proto-plus<2.0.0,>=1.22.3 in /usr/local/lib/python3.11/dist-packages (from google-cloud-speech) (1.26.1)\n",
            "Requirement already satisfied: protobuf!=4.21.0,!=4.21.1,!=4.21.2,!=4.21.3,!=4.21.4,!=4.21.5,<7.0.0,>=3.20.2 in /usr/local/lib/python3.11/dist-packages (from google-cloud-speech) (5.29.4)\n",
            "Requirement already satisfied: googleapis-common-protos<2.0.0,>=1.56.2 in /usr/local/lib/python3.11/dist-packages (from google-api-core!=2.0.*,!=2.1.*,!=2.10.*,!=2.2.*,!=2.3.*,!=2.4.*,!=2.5.*,!=2.6.*,!=2.7.*,!=2.8.*,!=2.9.*,<3.0.0,>=1.34.1->google-api-core[grpc]!=2.0.*,!=2.1.*,!=2.10.*,!=2.2.*,!=2.3.*,!=2.4.*,!=2.5.*,!=2.6.*,!=2.7.*,!=2.8.*,!=2.9.*,<3.0.0,>=1.34.1->google-cloud-speech) (1.69.2)\n",
            "Requirement already satisfied: requests<3.0.0,>=2.18.0 in /usr/local/lib/python3.11/dist-packages (from google-api-core!=2.0.*,!=2.1.*,!=2.10.*,!=2.2.*,!=2.3.*,!=2.4.*,!=2.5.*,!=2.6.*,!=2.7.*,!=2.8.*,!=2.9.*,<3.0.0,>=1.34.1->google-api-core[grpc]!=2.0.*,!=2.1.*,!=2.10.*,!=2.2.*,!=2.3.*,!=2.4.*,!=2.5.*,!=2.6.*,!=2.7.*,!=2.8.*,!=2.9.*,<3.0.0,>=1.34.1->google-cloud-speech) (2.32.3)\n",
            "Requirement already satisfied: grpcio<2.0dev,>=1.33.2 in /usr/local/lib/python3.11/dist-packages (from google-api-core[grpc]!=2.0.*,!=2.1.*,!=2.10.*,!=2.2.*,!=2.3.*,!=2.4.*,!=2.5.*,!=2.6.*,!=2.7.*,!=2.8.*,!=2.9.*,<3.0.0,>=1.34.1->google-cloud-speech) (1.71.0)\n",
            "Requirement already satisfied: grpcio-status<2.0.dev0,>=1.33.2 in /usr/local/lib/python3.11/dist-packages (from google-api-core[grpc]!=2.0.*,!=2.1.*,!=2.10.*,!=2.2.*,!=2.3.*,!=2.4.*,!=2.5.*,!=2.6.*,!=2.7.*,!=2.8.*,!=2.9.*,<3.0.0,>=1.34.1->google-cloud-speech) (1.71.0)\n",
            "Requirement already satisfied: cachetools<6.0,>=2.0.0 in /usr/local/lib/python3.11/dist-packages (from google-auth!=2.24.0,!=2.25.0,<3.0.0,>=2.14.1->google-cloud-speech) (5.5.2)\n",
            "Requirement already satisfied: pyasn1-modules>=0.2.1 in /usr/local/lib/python3.11/dist-packages (from google-auth!=2.24.0,!=2.25.0,<3.0.0,>=2.14.1->google-cloud-speech) (0.4.2)\n",
            "Requirement already satisfied: rsa<5,>=3.1.4 in /usr/local/lib/python3.11/dist-packages (from google-auth!=2.24.0,!=2.25.0,<3.0.0,>=2.14.1->google-cloud-speech) (4.9)\n",
            "Requirement already satisfied: pyasn1<0.7.0,>=0.6.1 in /usr/local/lib/python3.11/dist-packages (from pyasn1-modules>=0.2.1->google-auth!=2.24.0,!=2.25.0,<3.0.0,>=2.14.1->google-cloud-speech) (0.6.1)\n",
            "Requirement already satisfied: charset-normalizer<4,>=2 in /usr/local/lib/python3.11/dist-packages (from requests<3.0.0,>=2.18.0->google-api-core!=2.0.*,!=2.1.*,!=2.10.*,!=2.2.*,!=2.3.*,!=2.4.*,!=2.5.*,!=2.6.*,!=2.7.*,!=2.8.*,!=2.9.*,<3.0.0,>=1.34.1->google-api-core[grpc]!=2.0.*,!=2.1.*,!=2.10.*,!=2.2.*,!=2.3.*,!=2.4.*,!=2.5.*,!=2.6.*,!=2.7.*,!=2.8.*,!=2.9.*,<3.0.0,>=1.34.1->google-cloud-speech) (3.4.1)\n",
            "Requirement already satisfied: idna<4,>=2.5 in /usr/local/lib/python3.11/dist-packages (from requests<3.0.0,>=2.18.0->google-api-core!=2.0.*,!=2.1.*,!=2.10.*,!=2.2.*,!=2.3.*,!=2.4.*,!=2.5.*,!=2.6.*,!=2.7.*,!=2.8.*,!=2.9.*,<3.0.0,>=1.34.1->google-api-core[grpc]!=2.0.*,!=2.1.*,!=2.10.*,!=2.2.*,!=2.3.*,!=2.4.*,!=2.5.*,!=2.6.*,!=2.7.*,!=2.8.*,!=2.9.*,<3.0.0,>=1.34.1->google-cloud-speech) (3.10)\n",
            "Requirement already satisfied: urllib3<3,>=1.21.1 in /usr/local/lib/python3.11/dist-packages (from requests<3.0.0,>=2.18.0->google-api-core!=2.0.*,!=2.1.*,!=2.10.*,!=2.2.*,!=2.3.*,!=2.4.*,!=2.5.*,!=2.6.*,!=2.7.*,!=2.8.*,!=2.9.*,<3.0.0,>=1.34.1->google-api-core[grpc]!=2.0.*,!=2.1.*,!=2.10.*,!=2.2.*,!=2.3.*,!=2.4.*,!=2.5.*,!=2.6.*,!=2.7.*,!=2.8.*,!=2.9.*,<3.0.0,>=1.34.1->google-cloud-speech) (2.3.0)\n",
            "Requirement already satisfied: certifi>=2017.4.17 in /usr/local/lib/python3.11/dist-packages (from requests<3.0.0,>=2.18.0->google-api-core!=2.0.*,!=2.1.*,!=2.10.*,!=2.2.*,!=2.3.*,!=2.4.*,!=2.5.*,!=2.6.*,!=2.7.*,!=2.8.*,!=2.9.*,<3.0.0,>=1.34.1->google-api-core[grpc]!=2.0.*,!=2.1.*,!=2.10.*,!=2.2.*,!=2.3.*,!=2.4.*,!=2.5.*,!=2.6.*,!=2.7.*,!=2.8.*,!=2.9.*,<3.0.0,>=1.34.1->google-cloud-speech) (2025.1.31)\n",
            "Downloading google_cloud_speech-2.31.1-py3-none-any.whl (332 kB)\n",
            "\u001b[2K   \u001b[90m━━━━━━━━━━━━━━━━━━━━━━━━━━━━━━━━━━━━━━━━\u001b[0m \u001b[32m332.3/332.3 kB\u001b[0m \u001b[31m5.9 MB/s\u001b[0m eta \u001b[36m0:00:00\u001b[0m\n",
            "\u001b[?25hInstalling collected packages: google-cloud-speech\n",
            "Successfully installed google-cloud-speech-2.31.1\n"
          ]
        },
        {
          "output_type": "display_data",
          "data": {
            "application/vnd.colab-display-data+json": {
              "pip_warning": {
                "packages": [
                  "google"
                ]
              },
              "id": "03faa0693d8f4c3a85c4811b9da8d61a"
            }
          },
          "metadata": {}
        }
      ]
    },
    {
      "cell_type": "code",
      "source": [
        "pip install SpeechRecognition\n"
      ],
      "metadata": {
        "colab": {
          "base_uri": "https://localhost:8080/"
        },
        "id": "WI7lDBt79SCv",
        "outputId": "26f1d15e-05f0-4cc5-bf8d-ff52e00cc399"
      },
      "execution_count": null,
      "outputs": [
        {
          "output_type": "stream",
          "name": "stdout",
          "text": [
            "\u001b[33mWARNING: Ignoring invalid distribution ~riton (/usr/local/lib/python3.11/dist-packages)\u001b[0m\u001b[33m\n",
            "\u001b[0m\u001b[33mWARNING: Ignoring invalid distribution ~riton (/usr/local/lib/python3.11/dist-packages)\u001b[0m\u001b[33m\n",
            "\u001b[0mRequirement already satisfied: SpeechRecognition in /usr/local/lib/python3.11/dist-packages (3.14.1)\n",
            "Requirement already satisfied: typing-extensions in /usr/local/lib/python3.11/dist-packages (from SpeechRecognition) (4.12.2)\n",
            "\u001b[33mWARNING: Ignoring invalid distribution ~riton (/usr/local/lib/python3.11/dist-packages)\u001b[0m\u001b[33m\n",
            "\u001b[0m"
          ]
        }
      ]
    },
    {
      "cell_type": "code",
      "source": [
        "import pandas as pd\n",
        "import numpy as np\n",
        "import seaborn as sns\n",
        "import matplotlib.pyplot as plt\n",
        "import re\n",
        "import speech_recognition as sr  # For speech-to-text conversion\n",
        "from google.colab import drive  # If using Google Colab\n",
        "from sklearn.preprocessing import LabelEncoder\n",
        "from sklearn.feature_extraction.text import CountVectorizer\n",
        "from sklearn.model_selection import train_test_split\n",
        "from sklearn.naive_bayes import MultinomialNB\n",
        "from sklearn.metrics import accuracy_score, confusion_matrix\n"
      ],
      "metadata": {
        "id": "t23WYwKDPE2r"
      },
      "execution_count": null,
      "outputs": []
    },
    {
      "cell_type": "code",
      "source": [
        "\n",
        "# Load dataset\n",
        "data = pd.read_csv(\"Language Detection.csv\")  # Update the correct path if needed\n",
        "\n",
        "# Extract features (text) and labels (language)\n",
        "X = data[\"Text\"]\n",
        "y = data[\"Language\"]\n",
        "\n",
        "# Encode language labels into numeric values\n",
        "le = LabelEncoder()\n",
        "y = le.fit_transform(y)\n"
      ],
      "metadata": {
        "id": "oD9ZGTQCgUyD"
      },
      "execution_count": null,
      "outputs": []
    },
    {
      "cell_type": "code",
      "source": [
        "# Text Cleaning (Remove special characters and convert to lowercase)\n",
        "data_list = []\n",
        "for text in X:\n",
        "    text = re.sub(r'[!@#$(),\\n\"%^*?:;~0-9]', ' ', text)  # Remove special characters & numbers\n",
        "    text = re.sub(r'\\[.*?\\]', ' ', text)  # Remove content inside square brackets\n",
        "    text = text.lower()  # Convert text to lowercase\n",
        "    data_list.append(text)\n"
      ],
      "metadata": {
        "id": "J0pWQBWcgfQ7"
      },
      "execution_count": null,
      "outputs": []
    },
    {
      "cell_type": "code",
      "source": [
        "# Convert text data to numerical features\n",
        "cv = CountVectorizer()\n",
        "X = cv.fit_transform(data_list).toarray()\n",
        "\n",
        "# Check the shape of feature matrix\n",
        "print(\"Feature matrix shape:\", X.shape)\n"
      ],
      "metadata": {
        "colab": {
          "base_uri": "https://localhost:8080/"
        },
        "id": "uLVUO3AbghIu",
        "outputId": "0155ca4f-9d53-4799-b187-83ab7eba7937"
      },
      "execution_count": null,
      "outputs": [
        {
          "output_type": "stream",
          "name": "stdout",
          "text": [
            "Feature matrix shape: (10337, 39374)\n"
          ]
        }
      ]
    },
    {
      "cell_type": "code",
      "source": [
        "from sklearn.feature_extraction.text import TfidfVectorizer\n",
        "from sklearn.ensemble import RandomForestClassifier\n",
        "import joblib\n"
      ],
      "metadata": {
        "id": "uRub5TOQ3JcQ"
      },
      "execution_count": null,
      "outputs": []
    },
    {
      "cell_type": "code",
      "source": [
        "# Split dataset into training (80%) and testing (20%) sets\n",
        "X_train, X_test, y_train, y_test = train_test_split(X, y, test_size=0.20, random_state=42)\n",
        "\n",
        "# Train a Naïve Bayes model\n",
        "model = MultinomialNB()\n",
        "model.fit(X_train, y_train)\n",
        "\n",
        "print(\"Model training completed.\")\n"
      ],
      "metadata": {
        "id": "XGAzHimzgj15",
        "colab": {
          "base_uri": "https://localhost:8080/"
        },
        "outputId": "e6ec6e51-e614-4b73-aa40-d77434d808b7"
      },
      "execution_count": null,
      "outputs": [
        {
          "output_type": "stream",
          "name": "stdout",
          "text": [
            "Model training completed.\n"
          ]
        }
      ]
    },
    {
      "cell_type": "code",
      "source": [
        "# Make predictions\n",
        "y_pred = model.predict(X_test)\n",
        "\n",
        "# Calculate accuracy\n",
        "accuracy = accuracy_score(y_test, y_pred)\n",
        "print(\"Model Accuracy:\", accuracy)\n",
        "\n",
        "# Display confusion matrix\n",
        "plt.figure(figsize=(10, 6))\n",
        "sns.heatmap(confusion_matrix(y_test, y_pred), annot=True, fmt=\"d\", cmap=\"Blues\")\n",
        "plt.xlabel(\"Predicted\")\n",
        "plt.ylabel(\"Actual\")\n",
        "plt.title(\"Confusion Matrix\")\n",
        "plt.show()\n"
      ],
      "metadata": {
        "id": "foDxxc3Nglvi",
        "colab": {
          "base_uri": "https://localhost:8080/",
          "height": 581
        },
        "outputId": "cc874458-05db-41ec-87b2-7188343d5957"
      },
      "execution_count": null,
      "outputs": [
        {
          "output_type": "stream",
          "name": "stdout",
          "text": [
            "Model Accuracy: 0.9830754352030948\n"
          ]
        },
        {
          "output_type": "display_data",
          "data": {
            "text/plain": [
              "<Figure size 1000x600 with 2 Axes>"
            ],
            "image/png": "[encoded data removed]"
          },
          "metadata": {}
        }
      ]
    },
    {
      "cell_type": "code",
      "source": [
        "def predict_language(text):\n",
        "    x = cv.transform([text]).toarray()  # Convert text to feature vector\n",
        "    lang = model.predict(x)  # Predict language\n",
        "    lang = le.inverse_transform(lang)  # Convert back to language name\n",
        "    print(\"Detected Language:\", lang[0])\n"
      ],
      "metadata": {
        "id": "ZLeq4XFJgo45"
      },
      "execution_count": null,
      "outputs": []
    },
    {
      "cell_type": "code",
      "source": [
        "def speech_to_text():\n",
        "    recognizer = sr.Recognizer()\n",
        "    with sr.Microphone() as source:\n",
        "        print(\"Speak something...\")\n",
        "        recognizer.adjust_for_ambient_noise(source)  # Reduce background noise\n",
        "        audio = recognizer.listen(source)  # Listen to speech input\n",
        "\n",
        "    try:\n",
        "        text = recognizer.recognize_google(audio)  # Convert speech to text\n",
        "        print(\"Recognized Text:\", text)\n",
        "        predict_language(text)  # Classify the detected text\n",
        "    except sr.UnknownValueError:\n",
        "        print(\"Sorry, could not understand the speech.\")\n",
        "    except sr.RequestError:\n",
        "        print(\"Speech recognition service error.\")\n"
      ],
      "metadata": {
        "id": "mP7JBRRZgreG"
      },
      "execution_count": null,
      "outputs": []
    },
    {
      "cell_type": "code",
      "source": [
        "def debug_prediction(text):\n",
        "    x = cv.transform([text]).toarray()  # Convert text to feature vector\n",
        "    predicted_class = model.predict(x)  # Predict language\n",
        "    predicted_lang = le.inverse_transform(predicted_class)  # Convert to language name\n",
        "    print(f\"Input Text: {text}\")\n",
        "    print(f\"Predicted Language: {predicted_lang[0]}\")\n",
        "\n",
        "# Test multiple cases\n",
        "debug_prediction(\"I am speaking English\")\n",
        "debug_prediction(\"Je parle français\")\n",
        "debug_prediction(\"Ich spreche Deutsch\")\n",
        "debug_prediction(\"नमस्ते, यह हिंदी है\")\n"
      ],
      "metadata": {
        "id": "aLmEdyNSyJf2",
        "colab": {
          "base_uri": "https://localhost:8080/"
        },
        "outputId": "e6ff1fad-ebc6-4ff7-cb3c-a877fdc4f3ee"
      },
      "execution_count": null,
      "outputs": [
        {
          "output_type": "stream",
          "name": "stdout",
          "text": [
            "Input Text: I am speaking English\n",
            "Predicted Language: English\n",
            "Input Text: Je parle français\n",
            "Predicted Language: French\n",
            "Input Text: Ich spreche Deutsch\n",
            "Predicted Language: German\n",
            "Input Text: नमस्ते, यह हिंदी है\n",
            "Predicted Language: Hindi\n"
          ]
        }
      ]
    },
    {
      "cell_type": "code",
      "source": [
        "import speech_recognition as sr\n",
        "def speech_to_text_from_file(file_path):\n",
        "    recognizer = sr.Recognizer()\n",
        "\n",
        "    with sr.AudioFile(file_path) as source:\n",
        "        print(\"Processing audio...\")\n",
        "        recognizer.adjust_for_ambient_noise(source)  # Reduce background noise\n",
        "        audio = recognizer.record(source)  # Read entire file\n",
        "\n",
        "    try:\n",
        "        text = recognizer.recognize_google(audio)  # Convert speech to text\n",
        "        print(\"Recognized Text:\", text)  # Debugging step: See what is being recognized\n",
        "\n",
        "        # Check if Google Speech misinterpreted the words\n",
        "        debug_prediction(text)  # Classify the detected text\n",
        "    except sr.UnknownValueError:\n",
        "        print(\"Sorry, could not understand the speech.\")\n",
        "    except sr.RequestError:\n",
        "        print(\"Speech recognition service error.\")\n"
      ],
      "metadata": {
        "id": "4EFLfK9mycco"
      },
      "execution_count": null,
      "outputs": []
    },
    {
      "cell_type": "code",
      "source": [
        "pip install indic-nlp-library\n"
      ],
      "metadata": {
        "colab": {
          "base_uri": "https://localhost:8080/"
        },
        "id": "7leBcoqvKH4E",
        "outputId": "adac71d6-ea55-4395-d607-bca2a1a0f89d"
      },
      "execution_count": null,
      "outputs": [
        {
          "output_type": "stream",
          "name": "stdout",
          "text": [
            "\u001b[33mWARNING: Ignoring invalid distribution ~riton (/usr/local/lib/python3.11/dist-packages)\u001b[0m\u001b[33m\n",
            "\u001b[0m\u001b[33mWARNING: Ignoring invalid distribution ~riton (/usr/local/lib/python3.11/dist-packages)\u001b[0m\u001b[33m\n",
            "\u001b[0mRequirement already satisfied: indic-nlp-library in /usr/local/lib/python3.11/dist-packages (0.92)\n",
            "Requirement already satisfied: sphinx-argparse in /usr/local/lib/python3.11/dist-packages (from indic-nlp-library) (0.5.2)\n",
            "Requirement already satisfied: sphinx-rtd-theme in /usr/local/lib/python3.11/dist-packages (from indic-nlp-library) (3.0.2)\n",
            "Requirement already satisfied: morfessor in /usr/local/lib/python3.11/dist-packages (from indic-nlp-library) (2.0.6)\n",
            "Requirement already satisfied: pandas in /usr/local/lib/python3.11/dist-packages (from indic-nlp-library) (2.2.2)\n",
            "Requirement already satisfied: numpy in /usr/local/lib/python3.11/dist-packages (from indic-nlp-library) (1.26.4)\n",
            "Requirement already satisfied: python-dateutil>=2.8.2 in /usr/local/lib/python3.11/dist-packages (from pandas->indic-nlp-library) (2.8.2)\n",
            "Requirement already satisfied: pytz>=2020.1 in /usr/local/lib/python3.11/dist-packages (from pandas->indic-nlp-library) (2025.1)\n",
            "Requirement already satisfied: tzdata>=2022.7 in /usr/local/lib/python3.11/dist-packages (from pandas->indic-nlp-library) (2025.1)\n",
            "Requirement already satisfied: sphinx>=5.1.0 in /usr/local/lib/python3.11/dist-packages (from sphinx-argparse->indic-nlp-library) (8.1.3)\n",
            "Requirement already satisfied: docutils>=0.19 in /usr/local/lib/python3.11/dist-packages (from sphinx-argparse->indic-nlp-library) (0.21.2)\n",
            "Requirement already satisfied: sphinxcontrib-jquery<5,>=4 in /usr/local/lib/python3.11/dist-packages (from sphinx-rtd-theme->indic-nlp-library) (4.1)\n",
            "Requirement already satisfied: six>=1.5 in /usr/local/lib/python3.11/dist-packages (from python-dateutil>=2.8.2->pandas->indic-nlp-library) (1.17.0)\n",
            "Requirement already satisfied: sphinxcontrib-applehelp>=1.0.7 in /usr/local/lib/python3.11/dist-packages (from sphinx>=5.1.0->sphinx-argparse->indic-nlp-library) (2.0.0)\n",
            "Requirement already satisfied: sphinxcontrib-devhelp>=1.0.6 in /usr/local/lib/python3.11/dist-packages (from sphinx>=5.1.0->sphinx-argparse->indic-nlp-library) (2.0.0)\n",
            "Requirement already satisfied: sphinxcontrib-htmlhelp>=2.0.6 in /usr/local/lib/python3.11/dist-packages (from sphinx>=5.1.0->sphinx-argparse->indic-nlp-library) (2.1.0)\n",
            "Requirement already satisfied: sphinxcontrib-jsmath>=1.0.1 in /usr/local/lib/python3.11/dist-packages (from sphinx>=5.1.0->sphinx-argparse->indic-nlp-library) (1.0.1)\n",
            "Requirement already satisfied: sphinxcontrib-qthelp>=1.0.6 in /usr/local/lib/python3.11/dist-packages (from sphinx>=5.1.0->sphinx-argparse->indic-nlp-library) (2.0.0)\n",
            "Requirement already satisfied: sphinxcontrib-serializinghtml>=1.1.9 in /usr/local/lib/python3.11/dist-packages (from sphinx>=5.1.0->sphinx-argparse->indic-nlp-library) (2.0.0)\n",
            "Requirement already satisfied: Jinja2>=3.1 in /usr/local/lib/python3.11/dist-packages (from sphinx>=5.1.0->sphinx-argparse->indic-nlp-library) (3.1.5)\n",
            "Requirement already satisfied: Pygments>=2.17 in /usr/local/lib/python3.11/dist-packages (from sphinx>=5.1.0->sphinx-argparse->indic-nlp-library) (2.18.0)\n",
            "Requirement already satisfied: snowballstemmer>=2.2 in /usr/local/lib/python3.11/dist-packages (from sphinx>=5.1.0->sphinx-argparse->indic-nlp-library) (2.2.0)\n",
            "Requirement already satisfied: babel>=2.13 in /usr/local/lib/python3.11/dist-packages (from sphinx>=5.1.0->sphinx-argparse->indic-nlp-library) (2.17.0)\n",
            "Requirement already satisfied: alabaster>=0.7.14 in /usr/local/lib/python3.11/dist-packages (from sphinx>=5.1.0->sphinx-argparse->indic-nlp-library) (1.0.0)\n",
            "Requirement already satisfied: imagesize>=1.3 in /usr/local/lib/python3.11/dist-packages (from sphinx>=5.1.0->sphinx-argparse->indic-nlp-library) (1.4.1)\n",
            "Requirement already satisfied: requests>=2.30.0 in /usr/local/lib/python3.11/dist-packages (from sphinx>=5.1.0->sphinx-argparse->indic-nlp-library) (2.32.3)\n",
            "Requirement already satisfied: packaging>=23.0 in /usr/local/lib/python3.11/dist-packages (from sphinx>=5.1.0->sphinx-argparse->indic-nlp-library) (24.2)\n",
            "Requirement already satisfied: MarkupSafe>=2.0 in /usr/local/lib/python3.11/dist-packages (from Jinja2>=3.1->sphinx>=5.1.0->sphinx-argparse->indic-nlp-library) (3.0.2)\n",
            "Requirement already satisfied: charset-normalizer<4,>=2 in /usr/local/lib/python3.11/dist-packages (from requests>=2.30.0->sphinx>=5.1.0->sphinx-argparse->indic-nlp-library) (3.4.1)\n",
            "Requirement already satisfied: idna<4,>=2.5 in /usr/local/lib/python3.11/dist-packages (from requests>=2.30.0->sphinx>=5.1.0->sphinx-argparse->indic-nlp-library) (3.10)\n",
            "Requirement already satisfied: urllib3<3,>=1.21.1 in /usr/local/lib/python3.11/dist-packages (from requests>=2.30.0->sphinx>=5.1.0->sphinx-argparse->indic-nlp-library) (2.3.0)\n",
            "Requirement already satisfied: certifi>=2017.4.17 in /usr/local/lib/python3.11/dist-packages (from requests>=2.30.0->sphinx>=5.1.0->sphinx-argparse->indic-nlp-library) (2025.1.31)\n",
            "\u001b[33mWARNING: Ignoring invalid distribution ~riton (/usr/local/lib/python3.11/dist-packages)\u001b[0m\u001b[33m\n",
            "\u001b[0m"
          ]
        }
      ]
    },
    {
      "cell_type": "code",
      "source": [
        "from indicnlp.tokenize import indic_tokenize\n",
        "def custom_tokenizer(text):\n",
        "    return indic_tokenize.trivial_tokenize(text)\n",
        "vectorizer = TfidfVectorizer(tokenizer=custom_tokenizer, ngram_range=(1,3), max_features=5000)\n"
      ],
      "metadata": {
        "id": "3wTqqvHpKBRP"
      },
      "execution_count": null,
      "outputs": []
    },
    {
      "cell_type": "code",
      "source": [
        "!pip install datasets faiss-cpu transformers torchaudio\n"
      ],
      "metadata": {
        "id": "NiUY9pTCdC3b",
        "colab": {
          "base_uri": "https://localhost:8080/"
        },
        "outputId": "f2c36fa8-6076-4a69-ddfa-25e2acae6435"
      },
      "execution_count": null,
      "outputs": [
        {
          "output_type": "stream",
          "name": "stdout",
          "text": [
            "\u001b[33mWARNING: Ignoring invalid distribution ~riton (/usr/local/lib/python3.11/dist-packages)\u001b[0m\u001b[33m\n",
            "\u001b[0m\u001b[33mWARNING: Ignoring invalid distribution ~riton (/usr/local/lib/python3.11/dist-packages)\u001b[0m\u001b[33m\n",
            "\u001b[0mRequirement already satisfied: datasets in /usr/local/lib/python3.11/dist-packages (3.3.2)\n",
            "Requirement already satisfied: faiss-cpu in /usr/local/lib/python3.11/dist-packages (1.10.0)\n",
            "Requirement already satisfied: transformers in /usr/local/lib/python3.11/dist-packages (4.48.3)\n",
            "Requirement already satisfied: torchaudio in /usr/local/lib/python3.11/dist-packages (2.5.1+cu124)\n",
            "Requirement already satisfied: filelock in /usr/local/lib/python3.11/dist-packages (from datasets) (3.17.0)\n",
            "Requirement already satisfied: numpy>=1.17 in /usr/local/lib/python3.11/dist-packages (from datasets) (1.26.4)\n",
            "Requirement already satisfied: pyarrow>=15.0.0 in /usr/local/lib/python3.11/dist-packages (from datasets) (18.1.0)\n",
            "Requirement already satisfied: dill<0.3.9,>=0.3.0 in /usr/local/lib/python3.11/dist-packages (from datasets) (0.3.8)\n",
            "Requirement already satisfied: pandas in /usr/local/lib/python3.11/dist-packages (from datasets) (2.2.2)\n",
            "Requirement already satisfied: requests>=2.32.2 in /usr/local/lib/python3.11/dist-packages (from datasets) (2.32.3)\n",
            "Requirement already satisfied: tqdm>=4.66.3 in /usr/local/lib/python3.11/dist-packages (from datasets) (4.67.1)\n",
            "Requirement already satisfied: xxhash in /usr/local/lib/python3.11/dist-packages (from datasets) (3.5.0)\n",
            "Requirement already satisfied: multiprocess<0.70.17 in /usr/local/lib/python3.11/dist-packages (from datasets) (0.70.16)\n",
            "Requirement already satisfied: fsspec<=2024.12.0,>=2023.1.0 in /usr/local/lib/python3.11/dist-packages (from fsspec[http]<=2024.12.0,>=2023.1.0->datasets) (2024.10.0)\n",
            "Requirement already satisfied: aiohttp in /usr/local/lib/python3.11/dist-packages (from datasets) (3.11.13)\n",
            "Requirement already satisfied: huggingface-hub>=0.24.0 in /usr/local/lib/python3.11/dist-packages (from datasets) (0.28.1)\n",
            "Requirement already satisfied: packaging in /usr/local/lib/python3.11/dist-packages (from datasets) (24.2)\n",
            "Requirement already satisfied: pyyaml>=5.1 in /usr/local/lib/python3.11/dist-packages (from datasets) (6.0.2)\n",
            "Requirement already satisfied: regex!=2019.12.17 in /usr/local/lib/python3.11/dist-packages (from transformers) (2024.11.6)\n",
            "Requirement already satisfied: tokenizers<0.22,>=0.21 in /usr/local/lib/python3.11/dist-packages (from transformers) (0.21.0)\n",
            "Requirement already satisfied: safetensors>=0.4.1 in /usr/local/lib/python3.11/dist-packages (from transformers) (0.5.3)\n",
            "Requirement already satisfied: torch==2.5.1 in /usr/local/lib/python3.11/dist-packages (from torchaudio) (2.5.1+cu124)\n",
            "Requirement already satisfied: typing-extensions>=4.8.0 in /usr/local/lib/python3.11/dist-packages (from torch==2.5.1->torchaudio) (4.12.2)\n",
            "Requirement already satisfied: networkx in /usr/local/lib/python3.11/dist-packages (from torch==2.5.1->torchaudio) (3.4.2)\n",
            "Requirement already satisfied: jinja2 in /usr/local/lib/python3.11/dist-packages (from torch==2.5.1->torchaudio) (3.1.5)\n",
            "Requirement already satisfied: nvidia-cuda-nvrtc-cu12==12.4.127 in /usr/local/lib/python3.11/dist-packages (from torch==2.5.1->torchaudio) (12.4.127)\n",
            "Requirement already satisfied: nvidia-cuda-runtime-cu12==12.4.127 in /usr/local/lib/python3.11/dist-packages (from torch==2.5.1->torchaudio) (12.4.127)\n",
            "Requirement already satisfied: nvidia-cuda-cupti-cu12==12.4.127 in /usr/local/lib/python3.11/dist-packages (from torch==2.5.1->torchaudio) (12.4.127)\n",
            "Requirement already satisfied: nvidia-cudnn-cu12==9.1.0.70 in /usr/local/lib/python3.11/dist-packages (from torch==2.5.1->torchaudio) (9.1.0.70)\n",
            "Requirement already satisfied: nvidia-cublas-cu12==12.4.5.8 in /usr/local/lib/python3.11/dist-packages (from torch==2.5.1->torchaudio) (12.4.5.8)\n",
            "Requirement already satisfied: nvidia-cufft-cu12==11.2.1.3 in /usr/local/lib/python3.11/dist-packages (from torch==2.5.1->torchaudio) (11.2.1.3)\n",
            "Requirement already satisfied: nvidia-curand-cu12==10.3.5.147 in /usr/local/lib/python3.11/dist-packages (from torch==2.5.1->torchaudio) (10.3.5.147)\n",
            "Requirement already satisfied: nvidia-cusolver-cu12==11.6.1.9 in /usr/local/lib/python3.11/dist-packages (from torch==2.5.1->torchaudio) (11.6.1.9)\n",
            "Requirement already satisfied: nvidia-cusparse-cu12==12.3.1.170 in /usr/local/lib/python3.11/dist-packages (from torch==2.5.1->torchaudio) (12.3.1.170)\n",
            "Requirement already satisfied: nvidia-nccl-cu12==2.21.5 in /usr/local/lib/python3.11/dist-packages (from torch==2.5.1->torchaudio) (2.21.5)\n",
            "Requirement already satisfied: nvidia-nvtx-cu12==12.4.127 in /usr/local/lib/python3.11/dist-packages (from torch==2.5.1->torchaudio) (12.4.127)\n",
            "Requirement already satisfied: nvidia-nvjitlink-cu12==12.4.127 in /usr/local/lib/python3.11/dist-packages (from torch==2.5.1->torchaudio) (12.4.127)\n",
            "Collecting triton==3.1.0 (from torch==2.5.1->torchaudio)\n",
            "  Downloading triton-3.1.0-cp311-cp311-manylinux_2_17_x86_64.manylinux2014_x86_64.whl.metadata (1.3 kB)\n",
            "Requirement already satisfied: sympy==1.13.1 in /usr/local/lib/python3.11/dist-packages (from torch==2.5.1->torchaudio) (1.13.1)\n",
            "Requirement already satisfied: mpmath<1.4,>=1.1.0 in /usr/local/lib/python3.11/dist-packages (from sympy==1.13.1->torch==2.5.1->torchaudio) (1.3.0)\n",
            "Requirement already satisfied: aiohappyeyeballs>=2.3.0 in /usr/local/lib/python3.11/dist-packages (from aiohttp->datasets) (2.4.6)\n",
            "Requirement already satisfied: aiosignal>=1.1.2 in /usr/local/lib/python3.11/dist-packages (from aiohttp->datasets) (1.3.2)\n",
            "Requirement already satisfied: attrs>=17.3.0 in /usr/local/lib/python3.11/dist-packages (from aiohttp->datasets) (25.1.0)\n",
            "Requirement already satisfied: frozenlist>=1.1.1 in /usr/local/lib/python3.11/dist-packages (from aiohttp->datasets) (1.5.0)\n",
            "Requirement already satisfied: multidict<7.0,>=4.5 in /usr/local/lib/python3.11/dist-packages (from aiohttp->datasets) (6.1.0)\n",
            "Requirement already satisfied: propcache>=0.2.0 in /usr/local/lib/python3.11/dist-packages (from aiohttp->datasets) (0.3.0)\n",
            "Requirement already satisfied: yarl<2.0,>=1.17.0 in /usr/local/lib/python3.11/dist-packages (from aiohttp->datasets) (1.18.3)\n",
            "Requirement already satisfied: charset-normalizer<4,>=2 in /usr/local/lib/python3.11/dist-packages (from requests>=2.32.2->datasets) (3.4.1)\n",
            "Requirement already satisfied: idna<4,>=2.5 in /usr/local/lib/python3.11/dist-packages (from requests>=2.32.2->datasets) (3.10)\n",
            "Requirement already satisfied: urllib3<3,>=1.21.1 in /usr/local/lib/python3.11/dist-packages (from requests>=2.32.2->datasets) (2.3.0)\n",
            "Requirement already satisfied: certifi>=2017.4.17 in /usr/local/lib/python3.11/dist-packages (from requests>=2.32.2->datasets) (2025.1.31)\n",
            "Requirement already satisfied: python-dateutil>=2.8.2 in /usr/local/lib/python3.11/dist-packages (from pandas->datasets) (2.8.2)\n",
            "Requirement already satisfied: pytz>=2020.1 in /usr/local/lib/python3.11/dist-packages (from pandas->datasets) (2025.1)\n",
            "Requirement already satisfied: tzdata>=2022.7 in /usr/local/lib/python3.11/dist-packages (from pandas->datasets) (2025.1)\n",
            "Requirement already satisfied: six>=1.5 in /usr/local/lib/python3.11/dist-packages (from python-dateutil>=2.8.2->pandas->datasets) (1.17.0)\n",
            "Requirement already satisfied: MarkupSafe>=2.0 in /usr/local/lib/python3.11/dist-packages (from jinja2->torch==2.5.1->torchaudio) (3.0.2)\n",
            "Downloading triton-3.1.0-cp311-cp311-manylinux_2_17_x86_64.manylinux2014_x86_64.whl (209.5 MB)\n",
            "\u001b[2K   \u001b[90m━━━━━━━━━━━━━━━━━━━━━━━━━━━━━━━━━━━━━━━━\u001b[0m \u001b[32m209.5/209.5 MB\u001b[0m \u001b[31m3.3 MB/s\u001b[0m eta \u001b[36m0:00:00\u001b[0m\n",
            "\u001b[?25h\u001b[33mWARNING: Ignoring invalid distribution ~riton (/usr/local/lib/python3.11/dist-packages)\u001b[0m\u001b[33m\n",
            "\u001b[0mInstalling collected packages: triton\n",
            "\u001b[33mWARNING: Ignoring invalid distribution ~riton (/usr/local/lib/python3.11/dist-packages)\u001b[0m\u001b[33m\n",
            "\u001b[0mSuccessfully installed triton\n"
          ]
        }
      ]
    },
    {
      "cell_type": "code",
      "source": [
        "!nvcc --version\n"
      ],
      "metadata": {
        "colab": {
          "base_uri": "https://localhost:8080/"
        },
        "id": "1gcEFrxLmIQ3",
        "outputId": "c80838bf-cc1e-4114-d9c8-90aefc040c00"
      },
      "execution_count": null,
      "outputs": [
        {
          "output_type": "stream",
          "name": "stdout",
          "text": [
            "nvcc: NVIDIA (R) Cuda compiler driver\n",
            "Copyright (c) 2005-2024 NVIDIA Corporation\n",
            "Built on Thu_Jun__6_02:18:23_PDT_2024\n",
            "Cuda compilation tools, release 12.5, V12.5.82\n",
            "Build cuda_12.5.r12.5/compiler.34385749_0\n"
          ]
        }
      ]
    },
    {
      "cell_type": "code",
      "source": [
        "!apt-get update\n",
        "!apt-get install -y cuda-11-0\n"
      ],
      "metadata": {
        "colab": {
          "base_uri": "https://localhost:8080/"
        },
        "id": "x4t-ts7bmZEm",
        "outputId": "62f4fd23-497f-4f8a-ffa3-e6d7300e26ba"
      },
      "execution_count": null,
      "outputs": [
        {
          "output_type": "stream",
          "name": "stdout",
          "text": [
            "\r0% [Working]\r            \rHit:1 https://developer.download.nvidia.com/compute/cuda/repos/ubuntu2204/x86_64  InRelease\n",
            "Hit:2 https://cloud.r-project.org/bin/linux/ubuntu jammy-cran40/ InRelease\n",
            "Hit:3 http://security.ubuntu.com/ubuntu jammy-security InRelease\n",
            "Hit:4 https://r2u.stat.illinois.edu/ubuntu jammy InRelease\n",
            "Hit:5 http://archive.ubuntu.com/ubuntu jammy InRelease\n",
            "Hit:6 http://archive.ubuntu.com/ubuntu jammy-updates InRelease\n",
            "Hit:7 http://archive.ubuntu.com/ubuntu jammy-backports InRelease\n",
            "Hit:8 https://ppa.launchpadcontent.net/deadsnakes/ppa/ubuntu jammy InRelease\n",
            "Hit:9 https://ppa.launchpadcontent.net/graphics-drivers/ppa/ubuntu jammy InRelease\n",
            "Hit:10 https://ppa.launchpadcontent.net/ubuntugis/ppa/ubuntu jammy InRelease\n",
            "Reading package lists... Done\n",
            "W: Skipping acquire of configured file 'main/source/Sources' as repository 'https://r2u.stat.illinois.edu/ubuntu jammy InRelease' does not seem to provide it (sources.list entry misspelt?)\n",
            "Reading package lists... Done\n",
            "Building dependency tree... Done\n",
            "Reading state information... Done\n",
            "E: Unable to locate package cuda-11-0\n"
          ]
        }
      ]
    },
    {
      "cell_type": "code",
      "source": [
        "!pip install speechrecognition text2emotion langdetect\n"
      ],
      "metadata": {
        "id": "4hD0_dTcl_1S",
        "colab": {
          "base_uri": "https://localhost:8080/"
        },
        "outputId": "49efa5e9-da3b-415f-89a2-6d0e8d5fef3b"
      },
      "execution_count": null,
      "outputs": [
        {
          "output_type": "stream",
          "name": "stdout",
          "text": [
            "\u001b[33mWARNING: Ignoring invalid distribution ~riton (/usr/local/lib/python3.11/dist-packages)\u001b[0m\u001b[33m\n",
            "\u001b[0m\u001b[33mWARNING: Ignoring invalid distribution ~riton (/usr/local/lib/python3.11/dist-packages)\u001b[0m\u001b[33m\n",
            "\u001b[0mRequirement already satisfied: speechrecognition in /usr/local/lib/python3.11/dist-packages (3.14.1)\n",
            "Requirement already satisfied: text2emotion in /usr/local/lib/python3.11/dist-packages (0.0.5)\n",
            "Requirement already satisfied: langdetect in /usr/local/lib/python3.11/dist-packages (1.0.9)\n",
            "Requirement already satisfied: typing-extensions in /usr/local/lib/python3.11/dist-packages (from speechrecognition) (4.12.2)\n",
            "Requirement already satisfied: nltk in /usr/local/lib/python3.11/dist-packages (from text2emotion) (3.9.1)\n",
            "Requirement already satisfied: emoji>=0.6.0 in /usr/local/lib/python3.11/dist-packages (from text2emotion) (2.14.1)\n",
            "Requirement already satisfied: six in /usr/local/lib/python3.11/dist-packages (from langdetect) (1.17.0)\n",
            "Requirement already satisfied: click in /usr/local/lib/python3.11/dist-packages (from nltk->text2emotion) (8.1.8)\n",
            "Requirement already satisfied: joblib in /usr/local/lib/python3.11/dist-packages (from nltk->text2emotion) (1.4.2)\n",
            "Requirement already satisfied: regex>=2021.8.3 in /usr/local/lib/python3.11/dist-packages (from nltk->text2emotion) (2024.11.6)\n",
            "Requirement already satisfied: tqdm in /usr/local/lib/python3.11/dist-packages (from nltk->text2emotion) (4.67.1)\n",
            "\u001b[33mWARNING: Ignoring invalid distribution ~riton (/usr/local/lib/python3.11/dist-packages)\u001b[0m\u001b[33m\n",
            "\u001b[0m"
          ]
        }
      ]
    },
    {
      "cell_type": "code",
      "source": [
        "!pip install pydub\n"
      ],
      "metadata": {
        "colab": {
          "base_uri": "https://localhost:8080/"
        },
        "id": "W1ACly4OYbdz",
        "outputId": "2f3d4ef6-01a6-4c11-a9d7-2faa6e430e44"
      },
      "execution_count": null,
      "outputs": [
        {
          "output_type": "stream",
          "name": "stdout",
          "text": [
            "\u001b[33mWARNING: Ignoring invalid distribution ~riton (/usr/local/lib/python3.11/dist-packages)\u001b[0m\u001b[33m\n",
            "\u001b[0m\u001b[33mWARNING: Ignoring invalid distribution ~riton (/usr/local/lib/python3.11/dist-packages)\u001b[0m\u001b[33m\n",
            "\u001b[0mRequirement already satisfied: pydub in /usr/local/lib/python3.11/dist-packages (0.25.1)\n",
            "\u001b[33mWARNING: Ignoring invalid distribution ~riton (/usr/local/lib/python3.11/dist-packages)\u001b[0m\u001b[33m\n",
            "\u001b[0m"
          ]
        }
      ]
    },
    {
      "cell_type": "code",
      "source": [
        "pip install nltk langdetect SpeechRecognition pydub\n"
      ],
      "metadata": {
        "colab": {
          "base_uri": "https://localhost:8080/"
        },
        "id": "fJ4eCUSyY1Ch",
        "outputId": "04e18796-e693-40ff-b8dc-f498cd817cb8"
      },
      "execution_count": null,
      "outputs": [
        {
          "output_type": "stream",
          "name": "stdout",
          "text": [
            "\u001b[33mWARNING: Ignoring invalid distribution ~riton (/usr/local/lib/python3.11/dist-packages)\u001b[0m\u001b[33m\n",
            "\u001b[0m\u001b[33mWARNING: Ignoring invalid distribution ~riton (/usr/local/lib/python3.11/dist-packages)\u001b[0m\u001b[33m\n",
            "\u001b[0mRequirement already satisfied: nltk in /usr/local/lib/python3.11/dist-packages (3.9.1)\n",
            "Requirement already satisfied: langdetect in /usr/local/lib/python3.11/dist-packages (1.0.9)\n",
            "Requirement already satisfied: SpeechRecognition in /usr/local/lib/python3.11/dist-packages (3.14.1)\n",
            "Requirement already satisfied: pydub in /usr/local/lib/python3.11/dist-packages (0.25.1)\n",
            "Requirement already satisfied: click in /usr/local/lib/python3.11/dist-packages (from nltk) (8.1.8)\n",
            "Requirement already satisfied: joblib in /usr/local/lib/python3.11/dist-packages (from nltk) (1.4.2)\n",
            "Requirement already satisfied: regex>=2021.8.3 in /usr/local/lib/python3.11/dist-packages (from nltk) (2024.11.6)\n",
            "Requirement already satisfied: tqdm in /usr/local/lib/python3.11/dist-packages (from nltk) (4.67.1)\n",
            "Requirement already satisfied: six in /usr/local/lib/python3.11/dist-packages (from langdetect) (1.17.0)\n",
            "Requirement already satisfied: typing-extensions in /usr/local/lib/python3.11/dist-packages (from SpeechRecognition) (4.12.2)\n",
            "\u001b[33mWARNING: Ignoring invalid distribution ~riton (/usr/local/lib/python3.11/dist-packages)\u001b[0m\u001b[33m\n",
            "\u001b[0m"
          ]
        }
      ]
    },
    {
      "cell_type": "code",
      "source": [
        "pip install speechrecognition langdetect nltk\n"
      ],
      "metadata": {
        "colab": {
          "base_uri": "https://localhost:8080/"
        },
        "id": "OpFmbXdOaL9V",
        "outputId": "9dd6ac1d-0927-47c9-8201-e63d74b02857"
      },
      "execution_count": null,
      "outputs": [
        {
          "output_type": "stream",
          "name": "stdout",
          "text": [
            "\u001b[33mWARNING: Ignoring invalid distribution ~riton (/usr/local/lib/python3.11/dist-packages)\u001b[0m\u001b[33m\n",
            "\u001b[0m\u001b[33mWARNING: Ignoring invalid distribution ~riton (/usr/local/lib/python3.11/dist-packages)\u001b[0m\u001b[33m\n",
            "\u001b[0mRequirement already satisfied: speechrecognition in /usr/local/lib/python3.11/dist-packages (3.14.1)\n",
            "Requirement already satisfied: langdetect in /usr/local/lib/python3.11/dist-packages (1.0.9)\n",
            "Requirement already satisfied: nltk in /usr/local/lib/python3.11/dist-packages (3.9.1)\n",
            "Requirement already satisfied: typing-extensions in /usr/local/lib/python3.11/dist-packages (from speechrecognition) (4.12.2)\n",
            "Requirement already satisfied: six in /usr/local/lib/python3.11/dist-packages (from langdetect) (1.17.0)\n",
            "Requirement already satisfied: click in /usr/local/lib/python3.11/dist-packages (from nltk) (8.1.8)\n",
            "Requirement already satisfied: joblib in /usr/local/lib/python3.11/dist-packages (from nltk) (1.4.2)\n",
            "Requirement already satisfied: regex>=2021.8.3 in /usr/local/lib/python3.11/dist-packages (from nltk) (2024.11.6)\n",
            "Requirement already satisfied: tqdm in /usr/local/lib/python3.11/dist-packages (from nltk) (4.67.1)\n",
            "\u001b[33mWARNING: Ignoring invalid distribution ~riton (/usr/local/lib/python3.11/dist-packages)\u001b[0m\u001b[33m\n",
            "\u001b[0m"
          ]
        }
      ]
    },
    {
      "cell_type": "code",
      "source": [
        "import nltk\n",
        "nltk.download(\"vader_lexicon\")\n"
      ],
      "metadata": {
        "colab": {
          "base_uri": "https://localhost:8080/"
        },
        "id": "2SpI780VaPMk",
        "outputId": "a97ba0cc-e68c-415d-9bf0-240371551ebd"
      },
      "execution_count": null,
      "outputs": [
        {
          "output_type": "stream",
          "name": "stderr",
          "text": [
            "[nltk_data] Downloading package vader_lexicon to /root/nltk_data...\n",
            "[nltk_data]   Package vader_lexicon is already up-to-date!\n"
          ]
        },
        {
          "output_type": "execute_result",
          "data": {
            "text/plain": [
              "True"
            ]
          },
          "metadata": {},
          "execution_count": 23
        }
      ]
    },
    {
      "cell_type": "code",
      "source": [
        "pip install SpeechRecognition\n"
      ],
      "metadata": {
        "colab": {
          "base_uri": "https://localhost:8080/"
        },
        "id": "BSHKdAQbcWbq",
        "outputId": "ae406f0a-e15d-449d-fe64-bdad7797446f"
      },
      "execution_count": null,
      "outputs": [
        {
          "output_type": "stream",
          "name": "stdout",
          "text": [
            "\u001b[33mWARNING: Ignoring invalid distribution ~riton (/usr/local/lib/python3.11/dist-packages)\u001b[0m\u001b[33m\n",
            "\u001b[0m\u001b[33mWARNING: Ignoring invalid distribution ~riton (/usr/local/lib/python3.11/dist-packages)\u001b[0m\u001b[33m\n",
            "\u001b[0mRequirement already satisfied: SpeechRecognition in /usr/local/lib/python3.11/dist-packages (3.14.1)\n",
            "Requirement already satisfied: typing-extensions in /usr/local/lib/python3.11/dist-packages (from SpeechRecognition) (4.12.2)\n",
            "\u001b[33mWARNING: Ignoring invalid distribution ~riton (/usr/local/lib/python3.11/dist-packages)\u001b[0m\u001b[33m\n",
            "\u001b[0m"
          ]
        }
      ]
    },
    {
      "cell_type": "code",
      "source": [
        "import speech_recognition as sr\n",
        "from langdetect import detect\n",
        "from nltk.sentiment import SentimentIntensityAnalyzer\n",
        "import nltk\n",
        "import librosa\n",
        "import soundfile as sf\n",
        "\n",
        "# Download necessary nltk data\n",
        "nltk.download(\"vader_lexicon\")\n",
        "\n",
        "# Define Emotion-Language Mapping\n",
        "emotion_language_map = {\n",
        "    \"Positive\": [\"en\", \"fr\", \"es\"],\n",
        "    \"Negative\": [\"ru\", \"ar\", \"zh\"],\n",
        "    \"Neutral\": [\"en\", \"zh\", \"es\"],\n",
        "}\n",
        "\n",
        "def preprocess_audio(input_path, output_path=\"processed_audio.wav\"):\n",
        "    \"\"\" Convert stereo audio to mono and set sample rate to 16kHz \"\"\"\n",
        "    try:\n",
        "        audio, sr = librosa.load(input_path, sr=16000, mono=True)  # Convert to mono & 16kHz\n",
        "        sf.write(output_path, audio, sr)\n",
        "        return output_path  # Return new processed file path\n",
        "    except Exception as e:\n",
        "        return None, f\"Error processing audio: {e}\"\n",
        "\n",
        "def detect_language_with_emotion(audio_path):\n",
        "    recognizer = sr.Recognizer()\n",
        "\n",
        "    # Preprocess audio (fix format issues)\n",
        "    processed_audio_path = preprocess_audio(audio_path)\n",
        "    if processed_audio_path is None:\n",
        "        return {\"error\": \"Audio preprocessing failed!\"}\n",
        "\n",
        "    # Convert Speech to Text\n",
        "    try:\n",
        "        with sr.AudioFile(processed_audio_path) as source:\n",
        "            audio = recognizer.record(source)\n",
        "        text = recognizer.recognize_google(audio)\n",
        "    except sr.UnknownValueError:\n",
        "        return {\"error\": \"Speech not clear\"}\n",
        "    except sr.RequestError:\n",
        "        return {\"error\": \"Could not request results, check internet connection\"}\n",
        "    except Exception as e:\n",
        "        return {\"error\": f\"Speech recognition failed: {e}\"}\n",
        "\n",
        "    # Emotion Detection\n",
        "    sia = SentimentIntensityAnalyzer()\n",
        "    sentiment_score = sia.polarity_scores(text)\n",
        "\n",
        "    if sentiment_score[\"compound\"] >= 0.05:\n",
        "        detected_emotion = \"Positive\"\n",
        "    elif sentiment_score[\"compound\"] <= -0.05:\n",
        "        detected_emotion = \"Negative\"\n",
        "    else:\n",
        "        detected_emotion = \"Neutral\"\n",
        "\n",
        "    # Language Detection\n",
        "    try:\n",
        "        predicted_language = detect(text)\n",
        "    except:\n",
        "        predicted_language = \"unknown\"\n",
        "\n",
        "    # Adjust Language Based on Emotion\n",
        "    possible_languages = emotion_language_map.get(detected_emotion, [\"en\"])\n",
        "    final_language = predicted_language if predicted_language in possible_languages else possible_languages[0]\n",
        "\n",
        "    return {\n",
        "        \"text\": text,\n",
        "        \"emotion\": detected_emotion,\n",
        "        \"predicted_language\": predicted_language,\n",
        "        \"emotion-guided_language\": final_language,\n",
        "    }\n",
        "\n",
        "# Example Usage\n",
        "audio_path = \"/content/Recording5.wav\"  # Replace with actual file path\n",
        "result = detect_language_with_emotion(audio_path)\n",
        "\n",
        "# Print Results\n",
        "if \"error\" in result:\n",
        "    print(\"Error:\", result[\"error\"])\n",
        "else:\n",
        "    print(\"Detected Emotion:\", result[\"emotion\"])\n",
        "    print(\"Predicted Language:\", result[\"predicted_language\"])\n",
        "    print(\"Emotion-Guided Language:\", result[\"emotion-guided_language\"])\n",
        "    print(\"Transcribed Text:\", result[\"text\"])\n"
      ],
      "metadata": {
        "colab": {
          "base_uri": "https://localhost:8080/"
        },
        "id": "Jvu8VuCpvplO",
        "outputId": "4d731739-9de7-4667-a0ad-39b6e6295fd5"
      },
      "execution_count": null,
      "outputs": [
        {
          "output_type": "stream",
          "name": "stderr",
          "text": [
            "[nltk_data] Downloading package vader_lexicon to /root/nltk_data...\n",
            "[nltk_data]   Package vader_lexicon is already up-to-date!\n"
          ]
        },
        {
          "output_type": "stream",
          "name": "stdout",
          "text": [
            "Detected Emotion: Positive\n",
            "Predicted Language: en\n",
            "Emotion-Guided Language: en\n",
            "Transcribed Text: hello everyone I am not available and I'm very excited to meet all of you\n"
          ]
        }
      ]
    },
    {
      "cell_type": "code",
      "source": [
        "!pip install --upgrade torchvision torchaudio --index-url https://download.pytorch.org/whl/cu118\n"
      ],
      "metadata": {
        "id": "pPuyJilEklU9",
        "colab": {
          "base_uri": "https://localhost:8080/"
        },
        "outputId": "250e8251-9aaa-458b-b1e6-76931a23625a"
      },
      "execution_count": null,
      "outputs": [
        {
          "output_type": "stream",
          "name": "stdout",
          "text": [
            "\u001b[33mWARNING: Ignoring invalid distribution ~riton (/usr/local/lib/python3.11/dist-packages)\u001b[0m\u001b[33m\n",
            "\u001b[0m\u001b[33mWARNING: Ignoring invalid distribution ~riton (/usr/local/lib/python3.11/dist-packages)\u001b[0m\u001b[33m\n",
            "\u001b[0mLooking in indexes: https://download.pytorch.org/whl/cu118\n",
            "Requirement already satisfied: torchvision in /usr/local/lib/python3.11/dist-packages (0.20.1+cu124)\n",
            "Collecting torchvision\n",
            "  Using cached https://download.pytorch.org/whl/cu118/torchvision-0.21.0%2Bcu118-cp311-cp311-linux_x86_64.whl.metadata (6.1 kB)\n",
            "Requirement already satisfied: torchaudio in /usr/local/lib/python3.11/dist-packages (2.5.1+cu124)\n",
            "Collecting torchaudio\n",
            "  Using cached https://download.pytorch.org/whl/cu118/torchaudio-2.6.0%2Bcu118-cp311-cp311-linux_x86_64.whl.metadata (6.6 kB)\n",
            "Requirement already satisfied: numpy in /usr/local/lib/python3.11/dist-packages (from torchvision) (1.26.4)\n",
            "Collecting torch==2.6.0 (from torchvision)\n",
            "  Using cached https://download.pytorch.org/whl/cu118/torch-2.6.0%2Bcu118-cp311-cp311-linux_x86_64.whl.metadata (27 kB)\n",
            "Requirement already satisfied: pillow!=8.3.*,>=5.3.0 in /usr/local/lib/python3.11/dist-packages (from torchvision) (11.1.0)\n",
            "Requirement already satisfied: filelock in /usr/local/lib/python3.11/dist-packages (from torch==2.6.0->torchvision) (3.17.0)\n",
            "Requirement already satisfied: typing-extensions>=4.10.0 in /usr/local/lib/python3.11/dist-packages (from torch==2.6.0->torchvision) (4.12.2)\n",
            "Requirement already satisfied: networkx in /usr/local/lib/python3.11/dist-packages (from torch==2.6.0->torchvision) (3.4.2)\n",
            "Requirement already satisfied: jinja2 in /usr/local/lib/python3.11/dist-packages (from torch==2.6.0->torchvision) (3.1.5)\n",
            "Requirement already satisfied: fsspec in /usr/local/lib/python3.11/dist-packages (from torch==2.6.0->torchvision) (2024.10.0)\n",
            "Collecting nvidia-cuda-nvrtc-cu11==11.8.89 (from torch==2.6.0->torchvision)\n",
            "  Using cached https://download.pytorch.org/whl/cu118/nvidia_cuda_nvrtc_cu11-11.8.89-py3-none-manylinux1_x86_64.whl (23.2 MB)\n",
            "Collecting nvidia-cuda-runtime-cu11==11.8.89 (from torch==2.6.0->torchvision)\n",
            "  Using cached https://download.pytorch.org/whl/cu118/nvidia_cuda_runtime_cu11-11.8.89-py3-none-manylinux1_x86_64.whl (875 kB)\n",
            "Collecting nvidia-cuda-cupti-cu11==11.8.87 (from torch==2.6.0->torchvision)\n",
            "  Using cached https://download.pytorch.org/whl/cu118/nvidia_cuda_cupti_cu11-11.8.87-py3-none-manylinux1_x86_64.whl (13.1 MB)\n",
            "Collecting nvidia-cudnn-cu11==9.1.0.70 (from torch==2.6.0->torchvision)\n",
            "  Using cached https://download.pytorch.org/whl/cu118/nvidia_cudnn_cu11-9.1.0.70-py3-none-manylinux2014_x86_64.whl (663.9 MB)\n",
            "Collecting nvidia-cublas-cu11==11.11.3.6 (from torch==2.6.0->torchvision)\n",
            "  Using cached https://download.pytorch.org/whl/cu118/nvidia_cublas_cu11-11.11.3.6-py3-none-manylinux1_x86_64.whl (417.9 MB)\n",
            "Collecting nvidia-cufft-cu11==10.9.0.58 (from torch==2.6.0->torchvision)\n",
            "  Using cached https://download.pytorch.org/whl/cu118/nvidia_cufft_cu11-10.9.0.58-py3-none-manylinux1_x86_64.whl (168.4 MB)\n",
            "Collecting nvidia-curand-cu11==10.3.0.86 (from torch==2.6.0->torchvision)\n",
            "  Using cached https://download.pytorch.org/whl/cu118/nvidia_curand_cu11-10.3.0.86-py3-none-manylinux1_x86_64.whl (58.1 MB)\n",
            "Collecting nvidia-cusolver-cu11==11.4.1.48 (from torch==2.6.0->torchvision)\n",
            "  Using cached https://download.pytorch.org/whl/cu118/nvidia_cusolver_cu11-11.4.1.48-py3-none-manylinux1_x86_64.whl (128.2 MB)\n",
            "Collecting nvidia-cusparse-cu11==11.7.5.86 (from torch==2.6.0->torchvision)\n",
            "  Using cached https://download.pytorch.org/whl/cu118/nvidia_cusparse_cu11-11.7.5.86-py3-none-manylinux1_x86_64.whl (204.1 MB)\n",
            "Collecting nvidia-nccl-cu11==2.21.5 (from torch==2.6.0->torchvision)\n",
            "  Using cached https://download.pytorch.org/whl/cu118/nvidia_nccl_cu11-2.21.5-py3-none-manylinux2014_x86_64.whl (147.8 MB)\n",
            "Collecting nvidia-nvtx-cu11==11.8.86 (from torch==2.6.0->torchvision)\n",
            "  Using cached https://download.pytorch.org/whl/cu118/nvidia_nvtx_cu11-11.8.86-py3-none-manylinux1_x86_64.whl (99 kB)\n",
            "Collecting triton==3.2.0 (from torch==2.6.0->torchvision)\n",
            "  Using cached https://download.pytorch.org/whl/triton-3.2.0-cp311-cp311-manylinux_2_27_x86_64.manylinux_2_28_x86_64.whl.metadata (1.4 kB)\n",
            "Requirement already satisfied: sympy==1.13.1 in /usr/local/lib/python3.11/dist-packages (from torch==2.6.0->torchvision) (1.13.1)\n",
            "Requirement already satisfied: mpmath<1.4,>=1.1.0 in /usr/local/lib/python3.11/dist-packages (from sympy==1.13.1->torch==2.6.0->torchvision) (1.3.0)\n",
            "Requirement already satisfied: MarkupSafe>=2.0 in /usr/local/lib/python3.11/dist-packages (from jinja2->torch==2.6.0->torchvision) (3.0.2)\n",
            "Using cached https://download.pytorch.org/whl/cu118/torchvision-0.21.0%2Bcu118-cp311-cp311-linux_x86_64.whl (6.5 MB)\n",
            "Using cached https://download.pytorch.org/whl/cu118/torch-2.6.0%2Bcu118-cp311-cp311-linux_x86_64.whl (848.7 MB)\n",
            "Using cached https://download.pytorch.org/whl/triton-3.2.0-cp311-cp311-manylinux_2_27_x86_64.manylinux_2_28_x86_64.whl (166.7 MB)\n",
            "Using cached https://download.pytorch.org/whl/cu118/torchaudio-2.6.0%2Bcu118-cp311-cp311-linux_x86_64.whl (3.3 MB)\n",
            "\u001b[33mWARNING: Ignoring invalid distribution ~riton (/usr/local/lib/python3.11/dist-packages)\u001b[0m\u001b[33m\n",
            "\u001b[0mInstalling collected packages: triton, nvidia-nvtx-cu11, nvidia-nccl-cu11, nvidia-cusparse-cu11, nvidia-curand-cu11, nvidia-cufft-cu11, nvidia-cuda-runtime-cu11, nvidia-cuda-nvrtc-cu11, nvidia-cuda-cupti-cu11, nvidia-cublas-cu11, nvidia-cusolver-cu11, nvidia-cudnn-cu11, torch, torchvision, torchaudio\n",
            "  Attempting uninstall: torch\n",
            "\u001b[33m    WARNING: Ignoring invalid distribution ~riton (/usr/local/lib/python3.11/dist-packages)\u001b[0m\u001b[33m\n",
            "\u001b[0m    Found existing installation: torch 2.5.1+cu124\n",
            "    Uninstalling torch-2.5.1+cu124:\n",
            "      Successfully uninstalled torch-2.5.1+cu124\n",
            "  Attempting uninstall: torchvision\n",
            "\u001b[33m    WARNING: Ignoring invalid distribution ~riton (/usr/local/lib/python3.11/dist-packages)\u001b[0m\u001b[33m\n",
            "\u001b[0m    Found existing installation: torchvision 0.20.1+cu124\n",
            "    Uninstalling torchvision-0.20.1+cu124:\n",
            "      Successfully uninstalled torchvision-0.20.1+cu124\n",
            "  Attempting uninstall: torchaudio\n",
            "\u001b[33m    WARNING: Ignoring invalid distribution ~riton (/usr/local/lib/python3.11/dist-packages)\u001b[0m\u001b[33m\n",
            "\u001b[0m    Found existing installation: torchaudio 2.5.1+cu124\n",
            "    Uninstalling torchaudio-2.5.1+cu124:\n",
            "      Successfully uninstalled torchaudio-2.5.1+cu124\n",
            "\u001b[33mWARNING: Ignoring invalid distribution ~riton (/usr/local/lib/python3.11/dist-packages)\u001b[0m\u001b[33m\n",
            "\u001b[0m\u001b[33mWARNING: Ignoring invalid distribution ~riton (/usr/local/lib/python3.11/dist-packages)\u001b[0m\u001b[33m\n",
            "\u001b[0m\u001b[33mWARNING: Ignoring invalid distribution ~riton (/usr/local/lib/python3.11/dist-packages)\u001b[0m\u001b[33m\n",
            "\u001b[0m\u001b[33mWARNING: Ignoring invalid distribution ~riton (/usr/local/lib/python3.11/dist-packages)\u001b[0m\u001b[33m\n",
            "\u001b[0m\u001b[33mWARNING: Ignoring invalid distribution ~riton (/usr/local/lib/python3.11/dist-packages)\u001b[0m\u001b[33m\n",
            "\u001b[0m\u001b[33mWARNING: Ignoring invalid distribution ~riton (/usr/local/lib/python3.11/dist-packages)\u001b[0m\u001b[33m\n",
            "\u001b[0m\u001b[33mWARNING: Ignoring invalid distribution ~riton (/usr/local/lib/python3.11/dist-packages)\u001b[0m\u001b[33m\n",
            "\u001b[0m\u001b[33mWARNING: Ignoring invalid distribution ~riton (/usr/local/lib/python3.11/dist-packages)\u001b[0m\u001b[33m\n",
            "\u001b[0m\u001b[33mWARNING: Ignoring invalid distribution ~riton (/usr/local/lib/python3.11/dist-packages)\u001b[0m\u001b[33m\n",
            "\u001b[0m\u001b[33mWARNING: Ignoring invalid distribution ~riton (/usr/local/lib/python3.11/dist-packages)\u001b[0m\u001b[33m\n",
            "\u001b[0m\u001b[33mWARNING: Ignoring invalid distribution ~riton (/usr/local/lib/python3.11/dist-packages)\u001b[0m\u001b[33m\n",
            "\u001b[0m\u001b[33mWARNING: Ignoring invalid distribution ~riton (/usr/local/lib/python3.11/dist-packages)\u001b[0m\u001b[33m\n",
            "\u001b[0m\u001b[33mWARNING: Ignoring invalid distribution ~riton (/usr/local/lib/python3.11/dist-packages)\u001b[0m\u001b[33m\n",
            "\u001b[0m\u001b[31mERROR: pip's dependency resolver does not currently take into account all the packages that are installed. This behaviour is the source of the following dependency conflicts.\n",
            "fastai 2.7.18 requires torch<2.6,>=1.10, but you have torch 2.6.0+cu118 which is incompatible.\u001b[0m\u001b[31m\n",
            "\u001b[0mSuccessfully installed nvidia-cublas-cu11-11.11.3.6 nvidia-cuda-cupti-cu11-11.8.87 nvidia-cuda-nvrtc-cu11-11.8.89 nvidia-cuda-runtime-cu11-11.8.89 nvidia-cudnn-cu11-9.1.0.70 nvidia-cufft-cu11-10.9.0.58 nvidia-curand-cu11-10.3.0.86 nvidia-cusolver-cu11-11.4.1.48 nvidia-cusparse-cu11-11.7.5.86 nvidia-nccl-cu11-2.21.5 nvidia-nvtx-cu11-11.8.86 torch-2.6.0+cu118 torchaudio-2.6.0+cu118 torchvision-0.21.0+cu118 triton\n"
          ]
        }
      ]
    },
    {
      "cell_type": "code",
      "source": [
        "import speech_recognition as sr\n",
        "import librosa\n",
        "import soundfile as sf\n",
        "\n",
        "def preprocess_audio(input_path, output_path=\"Recording5.wav\"):\n",
        "    \"\"\"Convert audio to mono and 16kHz sample rate.\"\"\"\n",
        "    try:\n",
        "        print(\"Processing audio...\")\n",
        "        audio, sr = librosa.load(input_path, sr=16000, mono=True)  # Convert to mono & 16kHz\n",
        "        sf.write(output_path, audio, sr)\n",
        "        return output_path  # Return processed file path\n",
        "    except Exception as e:\n",
        "        print(\"Error processing audio:\", e)\n",
        "        return None\n",
        "\n",
        "def speech_to_text_from_file(audio_path):\n",
        "    recognizer = sr.Recognizer()\n",
        "\n",
        "    # Convert and preprocess audio before recognition\n",
        "    processed_audio_path = preprocess_audio(audio_path)\n",
        "    if processed_audio_path is None:\n",
        "        print(\"Audio preprocessing failed!\")\n",
        "        return None\n",
        "\n",
        "    try:\n",
        "        with sr.AudioFile(processed_audio_path) as source:\n",
        "            audio = recognizer.record(source)\n",
        "        text = recognizer.recognize_google(audio)\n",
        "        print(\"Recognized Text:\", text)\n",
        "        return text\n",
        "    except sr.UnknownValueError:\n",
        "        print(\"Speech not clear\")\n",
        "    except sr.RequestError:\n",
        "        print(\"Could not request results, check internet connection\")\n",
        "    except Exception as e:\n",
        "        print(\"Speech recognition failed:\", e)\n",
        "\n",
        "# Example usage\n",
        "audio_path = \"Recording5.wav\"  # Replace with your actual file\n",
        "speech_to_text_from_file(audio_path)\n"
      ],
      "metadata": {
        "id": "FjyVJTqry7rB",
        "colab": {
          "base_uri": "https://localhost:8080/",
          "height": 70
        },
        "outputId": "da8bd4e0-0244-412f-c4c7-1eee547d7ed7"
      },
      "execution_count": null,
      "outputs": [
        {
          "output_type": "stream",
          "name": "stdout",
          "text": [
            "Processing audio...\n",
            "Recognized Text: hello everyone I am not available and I'm very excited to meet all of you\n"
          ]
        },
        {
          "output_type": "execute_result",
          "data": {
            "text/plain": [
              "\"hello everyone I am not available and I'm very excited to meet all of you\""
            ],
            "application/vnd.google.colaboratory.intrinsic+json": {
              "type": "string"
            }
          },
          "metadata": {},
          "execution_count": 40
        }
      ]
    },
    {
      "cell_type": "code",
      "source": [
        "debug_prediction(\"Recording5.wav\")"
      ],
      "metadata": {
        "id": "FqB-s4LozABQ",
        "colab": {
          "base_uri": "https://localhost:8080/"
        },
        "outputId": "8398095c-92f0-4180-b2dc-cafd747acec9"
      },
      "execution_count": null,
      "outputs": [
        {
          "output_type": "stream",
          "name": "stdout",
          "text": [
            "Input Text: Recording5.wav\n",
            "Predicted Language: English\n"
          ]
        }
      ]
    },
    {
      "cell_type": "code",
      "source": [
        "import speech_recognition as sr\n",
        "\n",
        "# List of languages from your dataset (ISO 639-1 codes)\n",
        "LANGUAGE_CODES = [\"en\", \"hi\", \"fr\", \"es\", \"de\", \"ta\", \"te\", \"it\"]  # Add more if needed\n",
        "\n",
        "def speech_to_text_from_file(file_path):\n",
        "    recognizer = sr.Recognizer()\n",
        "\n",
        "    with sr.AudioFile(file_path) as source:\n",
        "        print(\"Processing audio...\")\n",
        "        recognizer.adjust_for_ambient_noise(source)  # Reduce background noise\n",
        "        audio = recognizer.record(source)  # Read entire file\n",
        "\n",
        "    for lang in LANGUAGE_CODES:  # Try multiple language models\n",
        "        try:\n",
        "            text = recognizer.recognize_google(audio, language=lang)\n",
        "            print(f\"🔹 Recognized Text ({lang}):\", text)  # Debugging output\n",
        "            return text\n",
        "        except sr.UnknownValueError:\n",
        "            continue  # If it fails for one language, try the next\n",
        "        except sr.RequestError:\n",
        "            print(\"❌ Speech recognition service error.\")\n",
        "            return None\n",
        "\n",
        "    print(\"❌ Could not recognize speech in any language.\")\n",
        "    return None\n",
        "\n",
        "# Example usage\n",
        "recognized_text = speech_to_text_from_file(\"Recording5.wav\")\n",
        "if recognized_text:\n",
        "    detected_language = predict_language(recognized_text)  # Step 2\n"
      ],
      "metadata": {
        "id": "cOibzmWN2-0M",
        "colab": {
          "base_uri": "https://localhost:8080/"
        },
        "outputId": "529996e2-f1a6-4952-ea26-6c9b4d78f56b"
      },
      "execution_count": null,
      "outputs": [
        {
          "output_type": "stream",
          "name": "stdout",
          "text": [
            "Processing audio...\n",
            "🔹 Recognized Text (en): and I'm very excited to meet all of you\n",
            "Detected Language: English\n"
          ]
        }
      ]
    },
    {
      "cell_type": "code",
      "source": [
        "def predict_language(text):\n",
        "    x = cv.transform([text]).toarray()  # Convert text to Bag-of-Words model\n",
        "    lang = model.predict(x)  # Predict the language\n",
        "    lang = le.inverse_transform(lang)  # Get actual language name\n",
        "    print(\"🔹 Detected Language:\", lang[0])  # Print the predicted language\n",
        "    return lang[0]\n",
        "\n",
        "# Example Usage\n",
        "if recognized_text:\n",
        "    detected_language = predict_language(recognized_text)\n"
      ],
      "metadata": {
        "id": "532i1bZd3GzR",
        "colab": {
          "base_uri": "https://localhost:8080/"
        },
        "outputId": "f83fded5-0cbf-40b4-e808-24bd0bb7ea12"
      },
      "execution_count": null,
      "outputs": [
        {
          "output_type": "stream",
          "name": "stdout",
          "text": [
            "🔹 Detected Language: English\n"
          ]
        }
      ]
    },
    {
      "cell_type": "code",
      "source": [
        "pip install gtts playsound pydub\n"
      ],
      "metadata": {
        "id": "N4iOLd334NOU",
        "colab": {
          "base_uri": "https://localhost:8080/"
        },
        "outputId": "bf38cb12-8772-44f7-f169-c8128e09327e"
      },
      "execution_count": null,
      "outputs": [
        {
          "output_type": "stream",
          "name": "stdout",
          "text": [
            "\u001b[33mWARNING: Ignoring invalid distribution ~riton (/usr/local/lib/python3.11/dist-packages)\u001b[0m\u001b[33m\n",
            "\u001b[0m\u001b[33mWARNING: Ignoring invalid distribution ~riton (/usr/local/lib/python3.11/dist-packages)\u001b[0m\u001b[33m\n",
            "\u001b[0mRequirement already satisfied: gtts in /usr/local/lib/python3.11/dist-packages (2.5.4)\n",
            "Collecting playsound\n",
            "  Downloading playsound-1.3.0.tar.gz (7.7 kB)\n",
            "  Preparing metadata (setup.py) ... \u001b[?25l\u001b[?25hdone\n",
            "Requirement already satisfied: pydub in /usr/local/lib/python3.11/dist-packages (0.25.1)\n",
            "Requirement already satisfied: requests<3,>=2.27 in /usr/local/lib/python3.11/dist-packages (from gtts) (2.32.3)\n",
            "Requirement already satisfied: click<8.2,>=7.1 in /usr/local/lib/python3.11/dist-packages (from gtts) (8.1.8)\n",
            "Requirement already satisfied: charset-normalizer<4,>=2 in /usr/local/lib/python3.11/dist-packages (from requests<3,>=2.27->gtts) (3.4.1)\n",
            "Requirement already satisfied: idna<4,>=2.5 in /usr/local/lib/python3.11/dist-packages (from requests<3,>=2.27->gtts) (3.10)\n",
            "Requirement already satisfied: urllib3<3,>=1.21.1 in /usr/local/lib/python3.11/dist-packages (from requests<3,>=2.27->gtts) (2.3.0)\n",
            "Requirement already satisfied: certifi>=2017.4.17 in /usr/local/lib/python3.11/dist-packages (from requests<3,>=2.27->gtts) (2025.1.31)\n",
            "Building wheels for collected packages: playsound\n",
            "  Building wheel for playsound (setup.py) ... \u001b[?25l\u001b[?25hdone\n",
            "  Created wheel for playsound: filename=playsound-1.3.0-py3-none-any.whl size=7020 sha256=2fb118c29afee719b78a21973641fa2b16f8b3289ed1f35e8360635790d27793\n",
            "  Stored in directory: /root/.cache/pip/wheels/50/98/42/62753a9e1fb97579a0ce2f84f7db4c21c09d03bb2091e6cef4\n",
            "Successfully built playsound\n",
            "\u001b[33mWARNING: Ignoring invalid distribution ~riton (/usr/local/lib/python3.11/dist-packages)\u001b[0m\u001b[33m\n",
            "\u001b[0mInstalling collected packages: playsound\n",
            "\u001b[33mWARNING: Ignoring invalid distribution ~riton (/usr/local/lib/python3.11/dist-packages)\u001b[0m\u001b[33m\n",
            "\u001b[0mSuccessfully installed playsound-1.3.0\n"
          ]
        }
      ]
    },
    {
      "cell_type": "code",
      "source": [
        "!pip install pydub\n",
        "!apt-get install ffmpeg -y\n"
      ],
      "metadata": {
        "id": "CP7Za7ho4w8M",
        "colab": {
          "base_uri": "https://localhost:8080/"
        },
        "outputId": "005972e8-8af1-4349-8c70-e2baa273fca1"
      },
      "execution_count": null,
      "outputs": [
        {
          "output_type": "stream",
          "name": "stdout",
          "text": [
            "\u001b[33mWARNING: Ignoring invalid distribution ~riton (/usr/local/lib/python3.11/dist-packages)\u001b[0m\u001b[33m\n",
            "\u001b[0m\u001b[33mWARNING: Ignoring invalid distribution ~riton (/usr/local/lib/python3.11/dist-packages)\u001b[0m\u001b[33m\n",
            "\u001b[0mRequirement already satisfied: pydub in /usr/local/lib/python3.11/dist-packages (0.25.1)\n",
            "\u001b[33mWARNING: Ignoring invalid distribution ~riton (/usr/local/lib/python3.11/dist-packages)\u001b[0m\u001b[33m\n",
            "Reading package lists... Done\n",
            "Building dependency tree... Done\n",
            "Reading state information... Done\n",
            "ffmpeg is already the newest version (7:4.4.2-0ubuntu0.22.04.1).\n",
            "0 upgraded, 0 newly installed, 0 to remove and 45 not upgraded.\n"
          ]
        }
      ]
    },
    {
      "cell_type": "code",
      "source": [
        "from IPython.display import Audio\n"
      ],
      "metadata": {
        "id": "XoNMlV455FAA"
      },
      "execution_count": null,
      "outputs": []
    },
    {
      "cell_type": "code",
      "source": [
        "from gtts import gTTS\n",
        "import os\n",
        "import re\n",
        "from IPython.display import Audio, display\n",
        "\n",
        "def clean_text(text):\n",
        "    text = re.sub(r'[!@#$(),n\"%^*?:;~0-9]', ' ', text)  # Remove special characters & numbers\n",
        "    text = re.sub(r'\\s+', ' ', text).strip()  # Remove extra spaces\n",
        "    return text.lower()  # Convert to lowercase\n",
        "\n",
        "def predict_language_and_speak(text):\n",
        "    text = clean_text(text)  # Preprocess text\n",
        "    x = cv.transform([text]).toarray()  # Convert text to Bag-of-Words model\n",
        "    lang = model.predict(x)  # Predict the language\n",
        "    lang = le.inverse_transform(lang)[0]  # Convert to actual language name\n",
        "\n",
        "    print(\"🔹 Detected Language:\", lang)\n",
        "\n",
        "    # Convert language name to gTTS-supported code (adjust as needed)\n",
        "    tts_languages = {\n",
        "        \"English\": \"en\",\n",
        "        \"Hindi\": \"hi\",\n",
        "        \"French\": \"fr\",\n",
        "        \"Spanish\": \"es\",\n",
        "        \"German\": \"de\",\n",
        "        \"Italian\": \"it\",\n",
        "        \"Tamil\": \"ta\",\n",
        "        \"Telugu\": \"te\",\n",
        "    }\n",
        "\n",
        "    # Get the correct language code for speech synthesis\n",
        "    tts_lang_code = tts_languages.get(lang, \"en\")  # Default to English if unknown\n",
        "\n",
        "    # Convert text to speech\n",
        "    tts = gTTS(text=f\"The detected language is {lang}\", lang=tts_lang_code)\n",
        "    audio_file = \"output.mp3\"\n",
        "    tts.save(audio_file)\n",
        "\n",
        "    # Return audio file for playback in Colab\n",
        "    return audio_file\n",
        "\n",
        "# Example Usage\n",
        "if recognized_text:\n",
        "    audio_file = predict_language_and_speak(recognized_text)\n",
        "    display(Audio(audio_file, autoplay=True))  # Play the audio\n"
      ],
      "metadata": {
        "id": "Hg3PWIwn5RYa",
        "colab": {
          "base_uri": "https://localhost:8080/",
          "height": 93
        },
        "outputId": "a92b4168-c6a2-4a39-b751-cfc0e0a2c76b"
      },
      "execution_count": null,
      "outputs": [
        {
          "output_type": "stream",
          "name": "stdout",
          "text": [
            "🔹 Detected Language: English\n"
          ]
        },
        {
          "output_type": "display_data",
          "data": {
            "text/plain": [
              "<IPython.lib.display.Audio object>"
            ],
            "text/html": [
              "\n",
              "                <audio  controls=\"controls\" autoplay=\"autoplay\">\n",
              "                    <source src=\"data:audio/mpeg;base64,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\" type=\"audio/mpeg\" />\n",
              "                    Your browser does not support the audio element.\n",
              "                </audio>\n",
              "              "
            ]
          },
          "metadata": {}
        }
      ]
    }
  ]
}